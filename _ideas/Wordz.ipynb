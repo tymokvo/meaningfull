{
  "nbformat": 4,
  "nbformat_minor": 0,
  "metadata": {
    "colab": {
      "name": "Wordz.ipynb",
      "version": "0.3.2",
      "views": {},
      "default_view": {},
      "provenance": [],
      "collapsed_sections": []
    },
    "kernelspec": {
      "name": "python3",
      "display_name": "Python 3"
    }
  },
  "cells": [
    {
      "metadata": {
        "id": "i8VK7JCwnW5p",
        "colab_type": "text"
      },
      "cell_type": "markdown",
      "source": [
        "## Idea\n",
        "\n",
        "Can you make a document where the words are all variables that hold various definitions?\n",
        "\n",
        "Keys/Definition Names should have a structure. Something like:\n",
        "\n",
        "`source-author-date-number`"
      ]
    },
    {
      "metadata": {
        "id": "1kbBtjKwlyGU",
        "colab_type": "code",
        "colab": {
          "autoexec": {
            "startup": false,
            "wait_interval": 0
          }
        }
      },
      "cell_type": "code",
      "source": [
        "class Word(dict):\n",
        "  def __init__(self, definition, definition_name):\n",
        "    self[definition_name] = definition \n",
        "      \n",
        "    "
      ],
      "execution_count": 0,
      "outputs": []
    },
    {
      "metadata": {
        "id": "NYHw-6iOosY9",
        "colab_type": "code",
        "colab": {
          "autoexec": {
            "startup": false,
            "wait_interval": 0
          }
        }
      },
      "cell_type": "code",
      "source": [
        "science = Word(\"doing experiments\", \"mydef0\")"
      ],
      "execution_count": 0,
      "outputs": []
    },
    {
      "metadata": {
        "id": "HClsRMW5ptvO",
        "colab_type": "code",
        "colab": {
          "autoexec": {
            "startup": false,
            "wait_interval": 0
          },
          "output_extras": [
            {
              "item_id": 1
            }
          ],
          "base_uri": "https://localhost:8080/",
          "height": 36
        },
        "outputId": "f1b1312d-c115-4905-aefe-f78d2c627ecd",
        "executionInfo": {
          "status": "ok",
          "timestamp": 1520127397431,
          "user_tz": 480,
          "elapsed": 417,
          "user": {
            "displayName": "Tyler Kvochick",
            "photoUrl": "//lh3.googleusercontent.com/-FKlWm1XXoxU/AAAAAAAAAAI/AAAAAAAAAJg/jPLE7j5j3us/s50-c-k-no/photo.jpg",
            "userId": "114032267452192370059"
          }
        }
      },
      "cell_type": "code",
      "source": [
        "science"
      ],
      "execution_count": 5,
      "outputs": [
        {
          "output_type": "execute_result",
          "data": {
            "text/plain": [
              "{'mydef0': 'doing experiments'}"
            ]
          },
          "metadata": {
            "tags": []
          },
          "execution_count": 5
        }
      ]
    },
    {
      "metadata": {
        "id": "pLdbEzdap0v7",
        "colab_type": "code",
        "colab": {
          "autoexec": {
            "startup": false,
            "wait_interval": 0
          }
        }
      },
      "cell_type": "code",
      "source": [
        "science[\"wikipedia\"] = \"a systematic enterprise that builds and organizes knowledge in the form of testable explanations and predictions about the universe.\""
      ],
      "execution_count": 0,
      "outputs": []
    },
    {
      "metadata": {
        "id": "92Od76cxqHBM",
        "colab_type": "code",
        "colab": {
          "autoexec": {
            "startup": false,
            "wait_interval": 0
          }
        }
      },
      "cell_type": "code",
      "source": [
        "science[\"merriam-webster-0\"] = \"knowledge as distinguished from ignorance or misunderstanding\""
      ],
      "execution_count": 0,
      "outputs": []
    },
    {
      "metadata": {
        "id": "BwXuzQ6hqZ1O",
        "colab_type": "code",
        "colab": {
          "autoexec": {
            "startup": false,
            "wait_interval": 0
          },
          "output_extras": [
            {
              "item_id": 1
            }
          ],
          "base_uri": "https://localhost:8080/",
          "height": 73
        },
        "outputId": "1a54930d-e126-4e34-aab6-84fe96b5dea3",
        "executionInfo": {
          "status": "ok",
          "timestamp": 1520127554119,
          "user_tz": 480,
          "elapsed": 424,
          "user": {
            "displayName": "Tyler Kvochick",
            "photoUrl": "//lh3.googleusercontent.com/-FKlWm1XXoxU/AAAAAAAAAAI/AAAAAAAAAJg/jPLE7j5j3us/s50-c-k-no/photo.jpg",
            "userId": "114032267452192370059"
          }
        }
      },
      "cell_type": "code",
      "source": [
        "science"
      ],
      "execution_count": 8,
      "outputs": [
        {
          "output_type": "execute_result",
          "data": {
            "text/plain": [
              "{'merriam-webster-0': 'knowledge as distinguished from ignorance or misunderstanding',\n",
              " 'mydef0': 'doing experiments',\n",
              " 'wikipedia': 'a systematic enterprise that builds and organizes knowledge in the form of testable explanations and predictions about the universe.'}"
            ]
          },
          "metadata": {
            "tags": []
          },
          "execution_count": 8
        }
      ]
    },
    {
      "metadata": {
        "id": "iJTPKCTJqa_e",
        "colab_type": "code",
        "colab": {
          "autoexec": {
            "startup": false,
            "wait_interval": 0
          }
        }
      },
      "cell_type": "code",
      "source": [
        "del science[\"mydef0\"]"
      ],
      "execution_count": 0,
      "outputs": []
    },
    {
      "metadata": {
        "id": "HvN_2FLNqgJ1",
        "colab_type": "code",
        "colab": {
          "autoexec": {
            "startup": false,
            "wait_interval": 0
          }
        }
      },
      "cell_type": "code",
      "source": [
        "science[\"feynman-might-say\"] = \"learning how to not fool yourself\""
      ],
      "execution_count": 0,
      "outputs": []
    },
    {
      "metadata": {
        "id": "BKQLqUufqti2",
        "colab_type": "code",
        "colab": {
          "autoexec": {
            "startup": false,
            "wait_interval": 0
          },
          "output_extras": [
            {
              "item_id": 1
            }
          ],
          "base_uri": "https://localhost:8080/",
          "height": 73
        },
        "outputId": "e4f138aa-a7bf-491e-c82e-29d7955c8b32",
        "executionInfo": {
          "status": "ok",
          "timestamp": 1520127633935,
          "user_tz": 480,
          "elapsed": 628,
          "user": {
            "displayName": "Tyler Kvochick",
            "photoUrl": "//lh3.googleusercontent.com/-FKlWm1XXoxU/AAAAAAAAAAI/AAAAAAAAAJg/jPLE7j5j3us/s50-c-k-no/photo.jpg",
            "userId": "114032267452192370059"
          }
        }
      },
      "cell_type": "code",
      "source": [
        "science"
      ],
      "execution_count": 11,
      "outputs": [
        {
          "output_type": "execute_result",
          "data": {
            "text/plain": [
              "{'feynman-might-say': 'learning how to not fool yourself',\n",
              " 'merriam-webster-0': 'knowledge as distinguished from ignorance or misunderstanding',\n",
              " 'wikipedia': 'a systematic enterprise that builds and organizes knowledge in the form of testable explanations and predictions about the universe.'}"
            ]
          },
          "metadata": {
            "tags": []
          },
          "execution_count": 11
        }
      ]
    },
    {
      "metadata": {
        "id": "tk55cR1VqucH",
        "colab_type": "code",
        "colab": {
          "autoexec": {
            "startup": false,
            "wait_interval": 0
          }
        }
      },
      "cell_type": "code",
      "source": [
        "_is = Word(\"equals\", \"merriam-webster-0\")"
      ],
      "execution_count": 0,
      "outputs": []
    },
    {
      "metadata": {
        "id": "0rwJI1UZrgL3",
        "colab_type": "code",
        "colab": {
          "autoexec": {
            "startup": false,
            "wait_interval": 0
          }
        }
      },
      "cell_type": "code",
      "source": [
        "fun = Word(\"what provides amusement or enjoyment\", \"merriam-webster-0\")"
      ],
      "execution_count": 0,
      "outputs": []
    },
    {
      "metadata": {
        "id": "9xoev6fpsJm-",
        "colab_type": "code",
        "colab": {
          "autoexec": {
            "startup": false,
            "wait_interval": 0
          }
        }
      },
      "cell_type": "code",
      "source": [
        "sentence = [science, _is, fun]"
      ],
      "execution_count": 0,
      "outputs": []
    },
    {
      "metadata": {
        "id": "_8sEMu_trw2E",
        "colab_type": "code",
        "colab": {
          "autoexec": {
            "startup": false,
            "wait_interval": 0
          },
          "output_extras": [
            {
              "item_id": 1
            },
            {
              "item_id": 2
            }
          ],
          "base_uri": "https://localhost:8080/",
          "height": 91
        },
        "outputId": "988329a0-7eb0-4deb-e739-e245c0ab095a",
        "executionInfo": {
          "status": "ok",
          "timestamp": 1520129724824,
          "user_tz": 480,
          "elapsed": 359,
          "user": {
            "displayName": "Tyler Kvochick",
            "photoUrl": "//lh3.googleusercontent.com/-FKlWm1XXoxU/AAAAAAAAAAI/AAAAAAAAAJg/jPLE7j5j3us/s50-c-k-no/photo.jpg",
            "userId": "114032267452192370059"
          }
        }
      },
      "cell_type": "code",
      "source": [
        "[print(word['merriam-webster-0']) for word in sentence]"
      ],
      "execution_count": 37,
      "outputs": [
        {
          "output_type": "stream",
          "text": [
            "knowledge as distinguished from ignorance or misunderstanding\n",
            "equals\n",
            "what provides amusement or enjoyment\n"
          ],
          "name": "stdout"
        },
        {
          "output_type": "execute_result",
          "data": {
            "text/plain": [
              "[None, None, None]"
            ]
          },
          "metadata": {
            "tags": []
          },
          "execution_count": 37
        }
      ]
    },
    {
      "metadata": {
        "id": "RF9ExCjazlSu",
        "colab_type": "code",
        "colab": {
          "autoexec": {
            "startup": false,
            "wait_interval": 0
          }
        }
      },
      "cell_type": "code",
      "source": [
        ""
      ],
      "execution_count": 0,
      "outputs": []
    },
    {
      "metadata": {
        "id": "1CViXnZaoxBL",
        "colab_type": "text"
      },
      "cell_type": "markdown",
      "source": [
        "$$ word \\leftrightarrow \\vec{W} = \\langle l_0, l_1, ..., l_{\\infty} \\rangle, l \\in \\mathbb{A} $$\n",
        "\n",
        "$$ word \\leftrightarrow \\vec{W} = \\langle M_0, M_1, ..., M_{\\infty} \\rangle, M \\in L \\subsetneq \\mathbb{L} $$\n",
        "\n",
        "A word is comprised of a list of meanings such that the meaning is possible in some library of documents wich is selected from the space of all possible libraries. I don't know that $ M_{\\infty} $ is possible. A word that has all meanings is the same as the space of all possible libraries $ \\mathbb{L} $.\n",
        "\n",
        "$$\n",
        "    M=\\sum{(C, E)} \\left\\{\n",
        "                \\begin{array}{ll}\n",
        "                  C = c \\cdot \\mu \\hspace{2mm} | \\hspace{2mm} c \\hspace{2mm} \\exists \\hspace{2mm} \\mathfrak{D}, \\mu_i \\times c_i \\neq 0 \\\\\n",
        "                  E \\Leftrightarrow S \\hspace{2mm} | \\hspace{2mm} e  \\hspace{2mm} \\exists \\hspace{2mm} L\n",
        "                \\end{array}\n",
        "              \\right.\n",
        "$$\n",
        "\n",
        "A meaning $M$ is comprised of two vectors $C$, concrete, and $E$, ephemeral. $M$ exists to the extent that every entry in $C$ can be found in some dataset $\\mathfrak{D}$ and that its product with a parallel vector of confidences $\\mu$ is not zero. $E$ exists and is exchangeable with a vector of statements $S$ to the extent that those statements are possible within some library of documents.\n",
        "\n",
        "$$ statement \\leftrightarrow \\vec{S} = \\langle w_0, w_1, ..., w_{\\infty} \\rangle, w \\in \\mathbb{W} $$"
      ]
    }
  ]
}